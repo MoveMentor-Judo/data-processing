{
 "cells": [
  {
   "cell_type": "code",
   "id": "initial_id",
   "metadata": {
    "collapsed": true,
    "ExecuteTime": {
     "end_time": "2025-04-21T23:09:33.700493Z",
     "start_time": "2025-04-21T23:09:33.618554Z"
    }
   },
   "source": [
    "import numpy as np\n",
    "import tensorflow as tf\n",
    "from tensorflow.keras.models import Model\n",
    "from tensorflow.keras.layers import Input, LSTM, Dense, Dropout, Embedding, Concatenate, Lambda, Layer\n",
    "from tools.custom_layers import SqueezeLayer"
   ],
   "outputs": [],
   "execution_count": 45
  },
  {
   "metadata": {
    "ExecuteTime": {
     "end_time": "2025-04-22T03:31:53.368195Z",
     "start_time": "2025-04-22T03:31:53.288716Z"
    }
   },
   "cell_type": "code",
   "source": [
    "# === Load Dataset ===\n",
    "data = np.load(\"dataset/dataset-v0-1.npz\")\n",
    "X = data[\"X\"]        # shape (N, 60, 68)\n",
    "y = data[\"y\"]        # shape (N,)\n",
    "angles = data[\"angles\"]  # shape (N,)"
   ],
   "id": "a01d6f52c88d37c4",
   "outputs": [],
   "execution_count": 78
  },
  {
   "metadata": {
    "ExecuteTime": {
     "end_time": "2025-04-22T03:31:54.542395Z",
     "start_time": "2025-04-22T03:31:54.516521Z"
    }
   },
   "cell_type": "code",
   "source": [
    "# === Define model parameters ===\n",
    "sequence_length = X.shape[1]        # 60\n",
    "feature_dim = X.shape[2]            # 68\n",
    "num_classes = len(np.unique(y))     # e.g., 7 throw types\n",
    "num_angles = len(np.unique(angles)) # e.g., 3 angles (side/front/diagonal)\n",
    "angle_embed_dim = 4                 # Size of angle embedding vector"
   ],
   "id": "68e1caab36e721a5",
   "outputs": [],
   "execution_count": 79
  },
  {
   "metadata": {
    "ExecuteTime": {
     "end_time": "2025-04-22T03:31:56.370469Z",
     "start_time": "2025-04-22T03:31:56.074660Z"
    }
   },
   "cell_type": "code",
   "source": [
    "# === Input 1: Pose Sequence ===\n",
    "pose_input = Input(shape=(sequence_length, feature_dim), name=\"pose_input\")\n",
    "x = LSTM(64, return_sequences=False)(pose_input)  # Output shape: (batch, 64)"
   ],
   "id": "72a0b7f9f72e1f07",
   "outputs": [],
   "execution_count": 80
  },
  {
   "metadata": {
    "ExecuteTime": {
     "end_time": "2025-04-22T03:31:57.390110Z",
     "start_time": "2025-04-22T03:31:57.293707Z"
    }
   },
   "cell_type": "code",
   "source": [
    "# === Input 2: Angle Class Index ===\n",
    "angle_input = Input(shape=(1,), dtype=\"int32\", name=\"angle_input\")\n",
    "angle_embed = Embedding(input_dim=num_angles, output_dim=angle_embed_dim, name=\"angle_embedding\")(angle_input)\n",
    "angle_embed = SqueezeLayer(axis=1, name=\"squeeze_angle_dim\")(angle_embed)"
   ],
   "id": "bafe99de2d6ec8e5",
   "outputs": [],
   "execution_count": 81
  },
  {
   "metadata": {
    "ExecuteTime": {
     "end_time": "2025-04-22T03:31:58.678480Z",
     "start_time": "2025-04-22T03:31:58.623378Z"
    }
   },
   "cell_type": "code",
   "source": [
    "# === Combine Inputs ===\n",
    "combined = Concatenate(name=\"concat_pose_angle\")([x, angle_embed])\n",
    "combined = Dropout(0.3)(combined)\n",
    "output = Dense(num_classes, activation=\"softmax\", name=\"classification_output\")(combined)"
   ],
   "id": "cd54cba789511f0a",
   "outputs": [],
   "execution_count": 82
  },
  {
   "metadata": {
    "ExecuteTime": {
     "end_time": "2025-04-22T03:32:01.342027Z",
     "start_time": "2025-04-22T03:32:01.312994Z"
    }
   },
   "cell_type": "code",
   "source": "model = Model(inputs=[pose_input, angle_input], outputs=output)",
   "id": "36d946567d3617ca",
   "outputs": [],
   "execution_count": 83
  },
  {
   "metadata": {
    "ExecuteTime": {
     "end_time": "2025-04-22T03:32:05.071129Z",
     "start_time": "2025-04-22T03:32:04.915916Z"
    }
   },
   "cell_type": "code",
   "source": [
    "model.compile(\n",
    "    loss=\"sparse_categorical_crossentropy\",\n",
    "    optimizer=\"adam\",\n",
    "    metrics=[\"accuracy\"]\n",
    ")\n",
    "\n",
    "model.summary()"
   ],
   "id": "463316af23e693ee",
   "outputs": [
    {
     "data": {
      "text/plain": [
       "\u001B[1mModel: \"functional_3\"\u001B[0m\n"
      ],
      "text/html": [
       "<pre style=\"white-space:pre;overflow-x:auto;line-height:normal;font-family:Menlo,'DejaVu Sans Mono',consolas,'Courier New',monospace\"><span style=\"font-weight: bold\">Model: \"functional_3\"</span>\n",
       "</pre>\n"
      ]
     },
     "metadata": {},
     "output_type": "display_data"
    },
    {
     "data": {
      "text/plain": [
       "┏━━━━━━━━━━━━━━━━━━━━━┳━━━━━━━━━━━━━━━━━━━┳━━━━━━━━━━━━┳━━━━━━━━━━━━━━━━━━━┓\n",
       "┃\u001B[1m \u001B[0m\u001B[1mLayer (type)       \u001B[0m\u001B[1m \u001B[0m┃\u001B[1m \u001B[0m\u001B[1mOutput Shape     \u001B[0m\u001B[1m \u001B[0m┃\u001B[1m \u001B[0m\u001B[1m   Param #\u001B[0m\u001B[1m \u001B[0m┃\u001B[1m \u001B[0m\u001B[1mConnected to     \u001B[0m\u001B[1m \u001B[0m┃\n",
       "┡━━━━━━━━━━━━━━━━━━━━━╇━━━━━━━━━━━━━━━━━━━╇━━━━━━━━━━━━╇━━━━━━━━━━━━━━━━━━━┩\n",
       "│ angle_input         │ (\u001B[38;5;45mNone\u001B[0m, \u001B[38;5;34m1\u001B[0m)         │          \u001B[38;5;34m0\u001B[0m │ -                 │\n",
       "│ (\u001B[38;5;33mInputLayer\u001B[0m)        │                   │            │                   │\n",
       "├─────────────────────┼───────────────────┼────────────┼───────────────────┤\n",
       "│ pose_input          │ (\u001B[38;5;45mNone\u001B[0m, \u001B[38;5;34m60\u001B[0m, \u001B[38;5;34m68\u001B[0m)    │          \u001B[38;5;34m0\u001B[0m │ -                 │\n",
       "│ (\u001B[38;5;33mInputLayer\u001B[0m)        │                   │            │                   │\n",
       "├─────────────────────┼───────────────────┼────────────┼───────────────────┤\n",
       "│ angle_embedding     │ (\u001B[38;5;45mNone\u001B[0m, \u001B[38;5;34m1\u001B[0m, \u001B[38;5;34m4\u001B[0m)      │         \u001B[38;5;34m16\u001B[0m │ angle_input[\u001B[38;5;34m0\u001B[0m][\u001B[38;5;34m0\u001B[0m] │\n",
       "│ (\u001B[38;5;33mEmbedding\u001B[0m)         │                   │            │                   │\n",
       "├─────────────────────┼───────────────────┼────────────┼───────────────────┤\n",
       "│ lstm_4 (\u001B[38;5;33mLSTM\u001B[0m)       │ (\u001B[38;5;45mNone\u001B[0m, \u001B[38;5;34m64\u001B[0m)        │     \u001B[38;5;34m34,048\u001B[0m │ pose_input[\u001B[38;5;34m0\u001B[0m][\u001B[38;5;34m0\u001B[0m]  │\n",
       "├─────────────────────┼───────────────────┼────────────┼───────────────────┤\n",
       "│ squeeze_angle_dim   │ (\u001B[38;5;45mNone\u001B[0m, \u001B[38;5;34m4\u001B[0m)         │          \u001B[38;5;34m0\u001B[0m │ angle_embedding[\u001B[38;5;34m…\u001B[0m │\n",
       "│ (\u001B[38;5;33mSqueezeLayer\u001B[0m)      │                   │            │                   │\n",
       "├─────────────────────┼───────────────────┼────────────┼───────────────────┤\n",
       "│ concat_pose_angle   │ (\u001B[38;5;45mNone\u001B[0m, \u001B[38;5;34m68\u001B[0m)        │          \u001B[38;5;34m0\u001B[0m │ lstm_4[\u001B[38;5;34m0\u001B[0m][\u001B[38;5;34m0\u001B[0m],     │\n",
       "│ (\u001B[38;5;33mConcatenate\u001B[0m)       │                   │            │ squeeze_angle_di… │\n",
       "├─────────────────────┼───────────────────┼────────────┼───────────────────┤\n",
       "│ dropout_3 (\u001B[38;5;33mDropout\u001B[0m) │ (\u001B[38;5;45mNone\u001B[0m, \u001B[38;5;34m68\u001B[0m)        │          \u001B[38;5;34m0\u001B[0m │ concat_pose_angl… │\n",
       "├─────────────────────┼───────────────────┼────────────┼───────────────────┤\n",
       "│ classification_out… │ (\u001B[38;5;45mNone\u001B[0m, \u001B[38;5;34m6\u001B[0m)         │        \u001B[38;5;34m414\u001B[0m │ dropout_3[\u001B[38;5;34m0\u001B[0m][\u001B[38;5;34m0\u001B[0m]   │\n",
       "│ (\u001B[38;5;33mDense\u001B[0m)             │                   │            │                   │\n",
       "└─────────────────────┴───────────────────┴────────────┴───────────────────┘\n"
      ],
      "text/html": [
       "<pre style=\"white-space:pre;overflow-x:auto;line-height:normal;font-family:Menlo,'DejaVu Sans Mono',consolas,'Courier New',monospace\">┏━━━━━━━━━━━━━━━━━━━━━┳━━━━━━━━━━━━━━━━━━━┳━━━━━━━━━━━━┳━━━━━━━━━━━━━━━━━━━┓\n",
       "┃<span style=\"font-weight: bold\"> Layer (type)        </span>┃<span style=\"font-weight: bold\"> Output Shape      </span>┃<span style=\"font-weight: bold\">    Param # </span>┃<span style=\"font-weight: bold\"> Connected to      </span>┃\n",
       "┡━━━━━━━━━━━━━━━━━━━━━╇━━━━━━━━━━━━━━━━━━━╇━━━━━━━━━━━━╇━━━━━━━━━━━━━━━━━━━┩\n",
       "│ angle_input         │ (<span style=\"color: #00d7ff; text-decoration-color: #00d7ff\">None</span>, <span style=\"color: #00af00; text-decoration-color: #00af00\">1</span>)         │          <span style=\"color: #00af00; text-decoration-color: #00af00\">0</span> │ -                 │\n",
       "│ (<span style=\"color: #0087ff; text-decoration-color: #0087ff\">InputLayer</span>)        │                   │            │                   │\n",
       "├─────────────────────┼───────────────────┼────────────┼───────────────────┤\n",
       "│ pose_input          │ (<span style=\"color: #00d7ff; text-decoration-color: #00d7ff\">None</span>, <span style=\"color: #00af00; text-decoration-color: #00af00\">60</span>, <span style=\"color: #00af00; text-decoration-color: #00af00\">68</span>)    │          <span style=\"color: #00af00; text-decoration-color: #00af00\">0</span> │ -                 │\n",
       "│ (<span style=\"color: #0087ff; text-decoration-color: #0087ff\">InputLayer</span>)        │                   │            │                   │\n",
       "├─────────────────────┼───────────────────┼────────────┼───────────────────┤\n",
       "│ angle_embedding     │ (<span style=\"color: #00d7ff; text-decoration-color: #00d7ff\">None</span>, <span style=\"color: #00af00; text-decoration-color: #00af00\">1</span>, <span style=\"color: #00af00; text-decoration-color: #00af00\">4</span>)      │         <span style=\"color: #00af00; text-decoration-color: #00af00\">16</span> │ angle_input[<span style=\"color: #00af00; text-decoration-color: #00af00\">0</span>][<span style=\"color: #00af00; text-decoration-color: #00af00\">0</span>] │\n",
       "│ (<span style=\"color: #0087ff; text-decoration-color: #0087ff\">Embedding</span>)         │                   │            │                   │\n",
       "├─────────────────────┼───────────────────┼────────────┼───────────────────┤\n",
       "│ lstm_4 (<span style=\"color: #0087ff; text-decoration-color: #0087ff\">LSTM</span>)       │ (<span style=\"color: #00d7ff; text-decoration-color: #00d7ff\">None</span>, <span style=\"color: #00af00; text-decoration-color: #00af00\">64</span>)        │     <span style=\"color: #00af00; text-decoration-color: #00af00\">34,048</span> │ pose_input[<span style=\"color: #00af00; text-decoration-color: #00af00\">0</span>][<span style=\"color: #00af00; text-decoration-color: #00af00\">0</span>]  │\n",
       "├─────────────────────┼───────────────────┼────────────┼───────────────────┤\n",
       "│ squeeze_angle_dim   │ (<span style=\"color: #00d7ff; text-decoration-color: #00d7ff\">None</span>, <span style=\"color: #00af00; text-decoration-color: #00af00\">4</span>)         │          <span style=\"color: #00af00; text-decoration-color: #00af00\">0</span> │ angle_embedding[<span style=\"color: #00af00; text-decoration-color: #00af00\">…</span> │\n",
       "│ (<span style=\"color: #0087ff; text-decoration-color: #0087ff\">SqueezeLayer</span>)      │                   │            │                   │\n",
       "├─────────────────────┼───────────────────┼────────────┼───────────────────┤\n",
       "│ concat_pose_angle   │ (<span style=\"color: #00d7ff; text-decoration-color: #00d7ff\">None</span>, <span style=\"color: #00af00; text-decoration-color: #00af00\">68</span>)        │          <span style=\"color: #00af00; text-decoration-color: #00af00\">0</span> │ lstm_4[<span style=\"color: #00af00; text-decoration-color: #00af00\">0</span>][<span style=\"color: #00af00; text-decoration-color: #00af00\">0</span>],     │\n",
       "│ (<span style=\"color: #0087ff; text-decoration-color: #0087ff\">Concatenate</span>)       │                   │            │ squeeze_angle_di… │\n",
       "├─────────────────────┼───────────────────┼────────────┼───────────────────┤\n",
       "│ dropout_3 (<span style=\"color: #0087ff; text-decoration-color: #0087ff\">Dropout</span>) │ (<span style=\"color: #00d7ff; text-decoration-color: #00d7ff\">None</span>, <span style=\"color: #00af00; text-decoration-color: #00af00\">68</span>)        │          <span style=\"color: #00af00; text-decoration-color: #00af00\">0</span> │ concat_pose_angl… │\n",
       "├─────────────────────┼───────────────────┼────────────┼───────────────────┤\n",
       "│ classification_out… │ (<span style=\"color: #00d7ff; text-decoration-color: #00d7ff\">None</span>, <span style=\"color: #00af00; text-decoration-color: #00af00\">6</span>)         │        <span style=\"color: #00af00; text-decoration-color: #00af00\">414</span> │ dropout_3[<span style=\"color: #00af00; text-decoration-color: #00af00\">0</span>][<span style=\"color: #00af00; text-decoration-color: #00af00\">0</span>]   │\n",
       "│ (<span style=\"color: #0087ff; text-decoration-color: #0087ff\">Dense</span>)             │                   │            │                   │\n",
       "└─────────────────────┴───────────────────┴────────────┴───────────────────┘\n",
       "</pre>\n"
      ]
     },
     "metadata": {},
     "output_type": "display_data"
    },
    {
     "data": {
      "text/plain": [
       "\u001B[1m Total params: \u001B[0m\u001B[38;5;34m34,478\u001B[0m (134.68 KB)\n"
      ],
      "text/html": [
       "<pre style=\"white-space:pre;overflow-x:auto;line-height:normal;font-family:Menlo,'DejaVu Sans Mono',consolas,'Courier New',monospace\"><span style=\"font-weight: bold\"> Total params: </span><span style=\"color: #00af00; text-decoration-color: #00af00\">34,478</span> (134.68 KB)\n",
       "</pre>\n"
      ]
     },
     "metadata": {},
     "output_type": "display_data"
    },
    {
     "data": {
      "text/plain": [
       "\u001B[1m Trainable params: \u001B[0m\u001B[38;5;34m34,478\u001B[0m (134.68 KB)\n"
      ],
      "text/html": [
       "<pre style=\"white-space:pre;overflow-x:auto;line-height:normal;font-family:Menlo,'DejaVu Sans Mono',consolas,'Courier New',monospace\"><span style=\"font-weight: bold\"> Trainable params: </span><span style=\"color: #00af00; text-decoration-color: #00af00\">34,478</span> (134.68 KB)\n",
       "</pre>\n"
      ]
     },
     "metadata": {},
     "output_type": "display_data"
    },
    {
     "data": {
      "text/plain": [
       "\u001B[1m Non-trainable params: \u001B[0m\u001B[38;5;34m0\u001B[0m (0.00 B)\n"
      ],
      "text/html": [
       "<pre style=\"white-space:pre;overflow-x:auto;line-height:normal;font-family:Menlo,'DejaVu Sans Mono',consolas,'Courier New',monospace\"><span style=\"font-weight: bold\"> Non-trainable params: </span><span style=\"color: #00af00; text-decoration-color: #00af00\">0</span> (0.00 B)\n",
       "</pre>\n"
      ]
     },
     "metadata": {},
     "output_type": "display_data"
    }
   ],
   "execution_count": 84
  },
  {
   "metadata": {
    "ExecuteTime": {
     "end_time": "2025-04-22T03:32:09.047507Z",
     "start_time": "2025-04-22T03:32:09.037282Z"
    }
   },
   "cell_type": "code",
   "source": "from sklearn.model_selection import train_test_split",
   "id": "8b46d35f4a99ceb1",
   "outputs": [],
   "execution_count": 85
  },
  {
   "metadata": {
    "ExecuteTime": {
     "end_time": "2025-04-22T03:32:13.386905Z",
     "start_time": "2025-04-22T03:32:13.304165Z"
    }
   },
   "cell_type": "code",
   "source": [
    "# Reshape angle input for training\n",
    "angle_input = angles.reshape(-1, 1)\n",
    "\n",
    "# Split\n",
    "X_train, X_test, y_train, y_test, a_train, a_test = train_test_split(\n",
    "    X, y, angle_input, test_size=0.2, random_state=42, stratify=y\n",
    ")"
   ],
   "id": "2ecd75b85ccea095",
   "outputs": [],
   "execution_count": 86
  },
  {
   "metadata": {
    "ExecuteTime": {
     "end_time": "2025-04-22T03:32:18.070881Z",
     "start_time": "2025-04-22T03:32:18.039754Z"
    }
   },
   "cell_type": "code",
   "source": [
    "#NEWWWWWW\n",
    "from sklearn.utils.class_weight import compute_class_weight\n",
    "import numpy as np\n",
    "\n",
    "# compute class weights\n",
    "class_weights_array = compute_class_weight(\n",
    "    class_weight='balanced',\n",
    "    classes=np.unique(y_train),\n",
    "    y=y_train\n",
    ")\n",
    "\n",
    "# convert to dictionary format\n",
    "class_weight_dict = {i: weight for i, weight in enumerate(class_weights_array)}\n",
    "\n",
    "print(\"Class weights:\", class_weight_dict)"
   ],
   "id": "2177bbc946340f42",
   "outputs": [
    {
     "name": "stdout",
     "output_type": "stream",
     "text": [
      "Class weights: {0: 1.0266666666666666, 1: 1.2833333333333334, 2: 1.6041666666666667, 3: 0.6936936936936937, 4: 0.7129629629629629, 5: 1.2833333333333334}\n"
     ]
    }
   ],
   "execution_count": 87
  },
  {
   "metadata": {
    "ExecuteTime": {
     "end_time": "2025-04-22T03:32:20.564053Z",
     "start_time": "2025-04-22T03:32:20.557717Z"
    }
   },
   "cell_type": "code",
   "source": [
    "from tensorflow.keras.callbacks import EarlyStopping\n",
    "\n",
    "early_stop = EarlyStopping(\n",
    "    monitor=\"val_loss\",\n",
    "    patience=3,\n",
    "    restore_best_weights=True\n",
    ")"
   ],
   "id": "89da4e75197cfd2",
   "outputs": [],
   "execution_count": 88
  },
  {
   "metadata": {
    "ExecuteTime": {
     "end_time": "2025-04-22T03:32:30.600617Z",
     "start_time": "2025-04-22T03:32:23.495674Z"
    }
   },
   "cell_type": "code",
   "source": [
    "# Train\n",
    "history = model.fit(\n",
    "    x={\"pose_input\": X_train, \"angle_input\": a_train},\n",
    "    y=y_train,\n",
    "    validation_data=(\n",
    "        {\"pose_input\": X_test, \"angle_input\": a_test},\n",
    "        y_test\n",
    "    ),\n",
    "    batch_size=16,\n",
    "    epochs=2000, # Was originally 20 (15 also worked)\n",
    "    callbacks=[early_stop], #added in to see\n",
    "    class_weight=class_weight_dict #NEWWWWW\n",
    ")"
   ],
   "id": "92f25fc5244f726e",
   "outputs": [
    {
     "name": "stdout",
     "output_type": "stream",
     "text": [
      "Epoch 1/2000\n",
      "\u001B[1m10/10\u001B[0m \u001B[32m━━━━━━━━━━━━━━━━━━━━\u001B[0m\u001B[37m\u001B[0m \u001B[1m2s\u001B[0m 43ms/step - accuracy: 0.1703 - loss: 1.8440 - val_accuracy: 0.3333 - val_loss: 1.6245\n",
      "Epoch 2/2000\n",
      "\u001B[1m10/10\u001B[0m \u001B[32m━━━━━━━━━━━━━━━━━━━━\u001B[0m\u001B[37m\u001B[0m \u001B[1m0s\u001B[0m 19ms/step - accuracy: 0.4132 - loss: 1.5377 - val_accuracy: 0.3590 - val_loss: 1.4733\n",
      "Epoch 3/2000\n",
      "\u001B[1m10/10\u001B[0m \u001B[32m━━━━━━━━━━━━━━━━━━━━\u001B[0m\u001B[37m\u001B[0m \u001B[1m0s\u001B[0m 21ms/step - accuracy: 0.5145 - loss: 1.3515 - val_accuracy: 0.5897 - val_loss: 1.3096\n",
      "Epoch 4/2000\n",
      "\u001B[1m10/10\u001B[0m \u001B[32m━━━━━━━━━━━━━━━━━━━━\u001B[0m\u001B[37m\u001B[0m \u001B[1m0s\u001B[0m 18ms/step - accuracy: 0.5924 - loss: 1.1518 - val_accuracy: 0.6410 - val_loss: 1.1538\n",
      "Epoch 5/2000\n",
      "\u001B[1m10/10\u001B[0m \u001B[32m━━━━━━━━━━━━━━━━━━━━\u001B[0m\u001B[37m\u001B[0m \u001B[1m0s\u001B[0m 21ms/step - accuracy: 0.6868 - loss: 0.9416 - val_accuracy: 0.6923 - val_loss: 0.9566\n",
      "Epoch 6/2000\n",
      "\u001B[1m10/10\u001B[0m \u001B[32m━━━━━━━━━━━━━━━━━━━━\u001B[0m\u001B[37m\u001B[0m \u001B[1m0s\u001B[0m 31ms/step - accuracy: 0.7109 - loss: 0.7501 - val_accuracy: 0.7436 - val_loss: 0.7911\n",
      "Epoch 7/2000\n",
      "\u001B[1m10/10\u001B[0m \u001B[32m━━━━━━━━━━━━━━━━━━━━\u001B[0m\u001B[37m\u001B[0m \u001B[1m0s\u001B[0m 30ms/step - accuracy: 0.7458 - loss: 0.6326 - val_accuracy: 0.8205 - val_loss: 0.6996\n",
      "Epoch 8/2000\n",
      "\u001B[1m10/10\u001B[0m \u001B[32m━━━━━━━━━━━━━━━━━━━━\u001B[0m\u001B[37m\u001B[0m \u001B[1m0s\u001B[0m 21ms/step - accuracy: 0.8150 - loss: 0.5691 - val_accuracy: 0.8462 - val_loss: 0.5923\n",
      "Epoch 9/2000\n",
      "\u001B[1m10/10\u001B[0m \u001B[32m━━━━━━━━━━━━━━━━━━━━\u001B[0m\u001B[37m\u001B[0m \u001B[1m0s\u001B[0m 23ms/step - accuracy: 0.8096 - loss: 0.4864 - val_accuracy: 0.8718 - val_loss: 0.5184\n",
      "Epoch 10/2000\n",
      "\u001B[1m10/10\u001B[0m \u001B[32m━━━━━━━━━━━━━━━━━━━━\u001B[0m\u001B[37m\u001B[0m \u001B[1m0s\u001B[0m 25ms/step - accuracy: 0.9060 - loss: 0.3794 - val_accuracy: 0.9231 - val_loss: 0.3933\n",
      "Epoch 11/2000\n",
      "\u001B[1m10/10\u001B[0m \u001B[32m━━━━━━━━━━━━━━━━━━━━\u001B[0m\u001B[37m\u001B[0m \u001B[1m0s\u001B[0m 30ms/step - accuracy: 0.9453 - loss: 0.2874 - val_accuracy: 0.8974 - val_loss: 0.3230\n",
      "Epoch 12/2000\n",
      "\u001B[1m10/10\u001B[0m \u001B[32m━━━━━━━━━━━━━━━━━━━━\u001B[0m\u001B[37m\u001B[0m \u001B[1m0s\u001B[0m 21ms/step - accuracy: 0.9461 - loss: 0.2623 - val_accuracy: 0.9487 - val_loss: 0.3140\n",
      "Epoch 13/2000\n",
      "\u001B[1m10/10\u001B[0m \u001B[32m━━━━━━━━━━━━━━━━━━━━\u001B[0m\u001B[37m\u001B[0m \u001B[1m0s\u001B[0m 21ms/step - accuracy: 0.9913 - loss: 0.1788 - val_accuracy: 0.9487 - val_loss: 0.2636\n",
      "Epoch 14/2000\n",
      "\u001B[1m10/10\u001B[0m \u001B[32m━━━━━━━━━━━━━━━━━━━━\u001B[0m\u001B[37m\u001B[0m \u001B[1m0s\u001B[0m 21ms/step - accuracy: 0.9720 - loss: 0.1656 - val_accuracy: 0.9487 - val_loss: 0.3834\n",
      "Epoch 15/2000\n",
      "\u001B[1m10/10\u001B[0m \u001B[32m━━━━━━━━━━━━━━━━━━━━\u001B[0m\u001B[37m\u001B[0m \u001B[1m0s\u001B[0m 24ms/step - accuracy: 0.9032 - loss: 0.2478 - val_accuracy: 1.0000 - val_loss: 0.2622\n",
      "Epoch 16/2000\n",
      "\u001B[1m10/10\u001B[0m \u001B[32m━━━━━━━━━━━━━━━━━━━━\u001B[0m\u001B[37m\u001B[0m \u001B[1m1s\u001B[0m 48ms/step - accuracy: 0.9521 - loss: 0.2084 - val_accuracy: 1.0000 - val_loss: 0.1977\n",
      "Epoch 17/2000\n",
      "\u001B[1m10/10\u001B[0m \u001B[32m━━━━━━━━━━━━━━━━━━━━\u001B[0m\u001B[37m\u001B[0m \u001B[1m0s\u001B[0m 25ms/step - accuracy: 0.9955 - loss: 0.1589 - val_accuracy: 1.0000 - val_loss: 0.1116\n",
      "Epoch 18/2000\n",
      "\u001B[1m10/10\u001B[0m \u001B[32m━━━━━━━━━━━━━━━━━━━━\u001B[0m\u001B[37m\u001B[0m \u001B[1m0s\u001B[0m 26ms/step - accuracy: 0.9798 - loss: 0.1198 - val_accuracy: 1.0000 - val_loss: 0.0883\n",
      "Epoch 19/2000\n",
      "\u001B[1m10/10\u001B[0m \u001B[32m━━━━━━━━━━━━━━━━━━━━\u001B[0m\u001B[37m\u001B[0m \u001B[1m0s\u001B[0m 22ms/step - accuracy: 0.9920 - loss: 0.0864 - val_accuracy: 0.8974 - val_loss: 0.3068\n",
      "Epoch 20/2000\n",
      "\u001B[1m10/10\u001B[0m \u001B[32m━━━━━━━━━━━━━━━━━━━━\u001B[0m\u001B[37m\u001B[0m \u001B[1m0s\u001B[0m 22ms/step - accuracy: 0.9093 - loss: 0.2404 - val_accuracy: 1.0000 - val_loss: 0.1099\n",
      "Epoch 21/2000\n",
      "\u001B[1m10/10\u001B[0m \u001B[32m━━━━━━━━━━━━━━━━━━━━\u001B[0m\u001B[37m\u001B[0m \u001B[1m0s\u001B[0m 23ms/step - accuracy: 0.9785 - loss: 0.1452 - val_accuracy: 1.0000 - val_loss: 0.1240\n"
     ]
    }
   ],
   "execution_count": 89
  },
  {
   "metadata": {
    "ExecuteTime": {
     "end_time": "2025-04-22T03:32:41.094335Z",
     "start_time": "2025-04-22T03:32:40.841052Z"
    }
   },
   "cell_type": "code",
   "source": [
    "preds = model.predict({\n",
    "    \"pose_input\": X_test[:1],\n",
    "    \"angle_input\": a_test[:1]\n",
    "})\n",
    "predicted_class = np.argmax(preds, axis=-1)\n",
    "print(\"Predicted throw class:\", predicted_class[0])\n"
   ],
   "id": "f05eb3301f2df288",
   "outputs": [
    {
     "name": "stdout",
     "output_type": "stream",
     "text": [
      "\u001B[1m1/1\u001B[0m \u001B[32m━━━━━━━━━━━━━━━━━━━━\u001B[0m\u001B[37m\u001B[0m \u001B[1m0s\u001B[0m 174ms/step\n",
      "Predicted throw class: 4\n"
     ]
    }
   ],
   "execution_count": 90
  },
  {
   "metadata": {
    "ExecuteTime": {
     "end_time": "2025-04-22T03:32:46.484438Z",
     "start_time": "2025-04-22T03:32:46.353541Z"
    }
   },
   "cell_type": "code",
   "source": "model.save(\"models/throw_detection_v0-1.keras\")\n",
   "id": "78e527e82db1d151",
   "outputs": [],
   "execution_count": 91
  },
  {
   "metadata": {},
   "cell_type": "code",
   "outputs": [],
   "execution_count": null,
   "source": "",
   "id": "5d765e307bdb0b52"
  }
 ],
 "metadata": {
  "kernelspec": {
   "display_name": "Python 3",
   "language": "python",
   "name": "python3"
  },
  "language_info": {
   "codemirror_mode": {
    "name": "ipython",
    "version": 2
   },
   "file_extension": ".py",
   "mimetype": "text/x-python",
   "name": "python",
   "nbconvert_exporter": "python",
   "pygments_lexer": "ipython2",
   "version": "2.7.6"
  }
 },
 "nbformat": 4,
 "nbformat_minor": 5
}
